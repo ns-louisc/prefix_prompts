{
 "cells": [
  {
   "cell_type": "markdown",
   "metadata": {},
   "source": [
    "# CSV Processing Experiment\n",
    "\n",
    "This notebook demonstrates how to use the CSV processor to add `manipulation_id` and `probe` fields to your prompts CSV file.\n",
    "\n",
    "## Overview\n",
    "- **Input**: CSV file with prompts\n",
    "- **Output**: Enhanced CSV with manipulation_id and probe fields"
   ]
  },
  {
   "cell_type": "code",
   "execution_count": null,
   "metadata": {},
   "outputs": [],
   "source": [
    "import pandas as pd\n",
    "from csv_processor import CSVProcessor\n",
    "\n",
    "# Set up paths\n",
    "input_file = \"data/prompts.csv\"\n",
    "output_file = \"data/processed_prompts.csv\""
   ]
  },
  {
   "cell_type": "markdown",
   "metadata": {},
   "source": [
    "## 1. Explore the Input Data"
   ]
  },
  {
   "cell_type": "code",
   "execution_count": null,
   "metadata": {},
   "outputs": [],
   "source": [
    "# Load and examine the input CSV\n",
    "df = pd.read_csv(input_file, dtype=object, na_filter=False)\n",
    "print(f\"Dataset shape: {df.shape}\")\n",
    "print(f\"Columns: {list(df.columns)}\")\n",
    "print(\"\\nFirst few rows:\")\n",
    "df.head()"
   ]
  },
  {
   "cell_type": "code",
   "execution_count": null,
   "metadata": {},
   "outputs": [],
   "source": [
    "# Check for missing values and data types\n",
    "print(\"Data Info:\")\n",
    "print(df.info())\n",
    "print(\"\\nMissing values:\")\n",
    "print(df.isnull().sum())"
   ]
  },
  {
   "cell_type": "markdown",
   "metadata": {},
   "source": [
    "## 2. Configure Processing Parameters\n",
    "\n",
    "Set your manipulation ID and prefix string here:"
   ]
  },
  {
   "cell_type": "code",
   "execution_count": null,
   "metadata": {},
   "outputs": [],
   "source": [
    "# Configuration - Modify these values as needed\n",
    "MANIPULATION_ID = \"M001\"  # Change this to desired manipulation ID\n",
    "PREFIX = \"DAN: \"  # Change this to desired prefix\n",
    "\n",
    "print(f\"Manipulation ID: {MANIPULATION_ID}\")\n",
    "print(f\"Prefix: '{PREFIX}'\")"
   ]
  },
  {
   "cell_type": "markdown",
   "metadata": {},
   "source": [
    "## 3. Preview the Output"
   ]
  },
  {
   "cell_type": "code",
   "execution_count": null,
   "metadata": {},
   "outputs": [],
   "source": [
    "# Create processor and preview results\n",
    "processor = CSVProcessor(input_file, output_file)\n",
    "preview = processor.preview_output(MANIPULATION_ID, PREFIX, num_rows=10)\n",
    "\n",
    "print(\"Preview of processed data:\")\n",
    "preview[['id', 'prompt', 'manipulation_id', 'probe']].head()"
   ]
  },
  {
   "cell_type": "code",
   "execution_count": null,
   "metadata": {},
   "outputs": [],
   "source": [
    "# Show example of how the probe field looks\n",
    "print(\"Example probe transformations:\")\n",
    "for i, row in preview.head(3).iterrows():\n",
    "    print(f\"\\n[Prompt] {row['prompt']}\")\n",
    "    print(f\"[Probe]  {row['probe']}\")"
   ]
  },
  {
   "cell_type": "markdown",
   "metadata": {},
   "source": [
    "## 4. Process the Full Dataset"
   ]
  },
  {
   "cell_type": "code",
   "execution_count": null,
   "metadata": {},
   "outputs": [],
   "source": [
    "# Process the entire dataset\n",
    "processor.process_csv(MANIPULATION_ID, PREFIX)"
   ]
  },
  {
   "cell_type": "markdown",
   "metadata": {},
   "source": [
    "## 5. Validate Output Format"
   ]
  },
  {
   "cell_type": "code",
   "execution_count": null,
   "metadata": {},
   "outputs": [],
   "source": [
    "# Check the raw file format\n",
    "with open(output_file, 'r', encoding='utf-8') as f:\n",
    "    lines = f.readlines()[:5]  # First 5 lines\n",
    "\n",
    "print(\"Raw output format (first 5 lines):\")\n",
    "for i, line in enumerate(lines, 1):\n",
    "    print(f\"{i}: {repr(line)}\")"
   ]
  },
  {
   "cell_type": "code",
   "execution_count": null,
   "metadata": {},
   "outputs": [],
   "source": [
    "output_df = pd.read_csv(output_file, dtype=object, na_filter=False)\n",
    "\n",
    "# Final verification\n",
    "print(\"Final Results:\")\n",
    "print(f\"Total rows processed: {len(output_df)}\")\n",
    "print(f\"Output file: {output_file}\")\n",
    "print(f\"Output columns: {list(output_df.columns)}\")\n",
    "print(f\"Manipulation ID: {MANIPULATION_ID}\")\n",
    "print(f\"Prefix used: '{PREFIX}'\")\n",
    "print(\"\\nProcessing complete!\")"
   ]
  }
 ],
 "metadata": {
  "kernelspec": {
   "display_name": "Python 3 (ipykernel)",
   "language": "python",
   "name": "python3"
  },
  "language_info": {
   "codemirror_mode": {
    "name": "ipython",
    "version": 3
   },
   "file_extension": ".py",
   "mimetype": "text/x-python",
   "name": "python",
   "nbconvert_exporter": "python",
   "pygments_lexer": "ipython3",
   "version": "3.13.3"
  }
 },
 "nbformat": 4,
 "nbformat_minor": 4
}
